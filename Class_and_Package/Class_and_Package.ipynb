{
  "nbformat": 4,
  "nbformat_minor": 0,
  "metadata": {
    "colab": {
      "provenance": [],
      "authorship_tag": "ABX9TyNQqCGmh2G3O/RxVICJBAHk",
      "include_colab_link": true
    },
    "kernelspec": {
      "name": "python3",
      "display_name": "Python 3"
    },
    "language_info": {
      "name": "python"
    }
  },
  "cells": [
    {
      "cell_type": "markdown",
      "metadata": {
        "id": "view-in-github",
        "colab_type": "text"
      },
      "source": [
        "<a href=\"https://colab.research.google.com/github/codingbjs/PythonBasic/blob/main/Class_and_Package/Class_and_Package.ipynb\" target=\"_parent\"><img src=\"https://colab.research.google.com/assets/colab-badge.svg\" alt=\"Open In Colab\"/></a>"
      ]
    },
    {
      "cell_type": "code",
      "execution_count": 1,
      "metadata": {
        "id": "a-ENdFCcM-n9"
      },
      "outputs": [],
      "source": [
        "import warnings\n",
        "warnings.filterwarnings('ignore')"
      ]
    },
    {
      "cell_type": "code",
      "source": [
        "class MyClass:\n",
        "\n",
        "    var_1 = \"'Hello Class >>> Class Member'\"\n",
        "\n",
        "    def func_1(self):\n",
        "        var_2 = \"'Method >>> instance Member'\"\n",
        "        print(self.var_1, 'AND', var_2)\n",
        "\n",
        "\n",
        "obj = MyClass()\n",
        "obj.var_1"
      ],
      "metadata": {
        "colab": {
          "base_uri": "https://localhost:8080/",
          "height": 35
        },
        "id": "vDqEe7RbQXTI",
        "outputId": "b06dc8ac-024d-4586-ef42-fc8b26b9693d"
      },
      "execution_count": 2,
      "outputs": [
        {
          "output_type": "execute_result",
          "data": {
            "text/plain": [
              "\"'Hello Class >>> Class Member'\""
            ],
            "application/vnd.google.colaboratory.intrinsic+json": {
              "type": "string"
            }
          },
          "metadata": {},
          "execution_count": 2
        }
      ]
    },
    {
      "cell_type": "code",
      "source": [
        "obj.var_2"
      ],
      "metadata": {
        "colab": {
          "base_uri": "https://localhost:8080/",
          "height": 184
        },
        "id": "vjcJ1AWRRMbx",
        "outputId": "b392bb2e-9f73-40b9-9515-11223b78b640"
      },
      "execution_count": 3,
      "outputs": [
        {
          "output_type": "error",
          "ename": "AttributeError",
          "evalue": "ignored",
          "traceback": [
            "\u001b[0;31m---------------------------------------------------------------------------\u001b[0m",
            "\u001b[0;31mAttributeError\u001b[0m                            Traceback (most recent call last)",
            "\u001b[0;32m<ipython-input-3-b577f6dcea8d>\u001b[0m in \u001b[0;36m<cell line: 1>\u001b[0;34m()\u001b[0m\n\u001b[0;32m----> 1\u001b[0;31m \u001b[0mobj\u001b[0m\u001b[0;34m.\u001b[0m\u001b[0mvar_2\u001b[0m\u001b[0;34m\u001b[0m\u001b[0;34m\u001b[0m\u001b[0m\n\u001b[0m",
            "\u001b[0;31mAttributeError\u001b[0m: 'MyClass' object has no attribute 'var_2'"
          ]
        }
      ]
    },
    {
      "cell_type": "code",
      "source": [
        "obj.func_1()"
      ],
      "metadata": {
        "colab": {
          "base_uri": "https://localhost:8080/"
        },
        "id": "nJi3S5H_RQ-0",
        "outputId": "d54a27f1-3e9a-4cc2-bec3-1737276b55e9"
      },
      "execution_count": 4,
      "outputs": [
        {
          "output_type": "stream",
          "name": "stdout",
          "text": [
            "'Hello Class >>> Class Member' AND 'Method >>> instance Member'\n"
          ]
        }
      ]
    },
    {
      "cell_type": "code",
      "source": [
        "class Calculator:\n",
        "\n",
        "    def input_data(self, m, n):\n",
        "        self.m = m\n",
        "        self.n = n\n",
        "\n",
        "    def addition(self):\n",
        "        result = self.m + self.n\n",
        "        return result\n",
        "\n",
        "cal_1 = Calculator()\n",
        "cal_2 = Calculator()\n",
        "\n",
        "cal_1.input_data(3, 6)\n",
        "cal_2.input_data(9, 5)\n",
        "\n",
        "cal_1.addition()"
      ],
      "metadata": {
        "colab": {
          "base_uri": "https://localhost:8080/"
        },
        "id": "OE5DMwB9RXQc",
        "outputId": "fa360971-4265-44d7-8ecb-3dc1173c2332"
      },
      "execution_count": 7,
      "outputs": [
        {
          "output_type": "execute_result",
          "data": {
            "text/plain": [
              "9"
            ]
          },
          "metadata": {},
          "execution_count": 7
        }
      ]
    },
    {
      "cell_type": "code",
      "source": [
        "cal_2.addition()"
      ],
      "metadata": {
        "colab": {
          "base_uri": "https://localhost:8080/"
        },
        "id": "z2ECGrpkSd9R",
        "outputId": "fe243c6d-88c1-4c57-cd96-5bb092a7967e"
      },
      "execution_count": 8,
      "outputs": [
        {
          "output_type": "execute_result",
          "data": {
            "text/plain": [
              "14"
            ]
          },
          "metadata": {},
          "execution_count": 8
        }
      ]
    },
    {
      "cell_type": "code",
      "source": [
        "cal_3 = Calculator()\n",
        "cal_3.addition()"
      ],
      "metadata": {
        "colab": {
          "base_uri": "https://localhost:8080/",
          "height": 331
        },
        "id": "Fg2XzNaISQP2",
        "outputId": "ea96fdfa-7007-4175-84d2-646cce3966d4"
      },
      "execution_count": 9,
      "outputs": [
        {
          "output_type": "error",
          "ename": "AttributeError",
          "evalue": "ignored",
          "traceback": [
            "\u001b[0;31m---------------------------------------------------------------------------\u001b[0m",
            "\u001b[0;31mAttributeError\u001b[0m                            Traceback (most recent call last)",
            "\u001b[0;32m<ipython-input-9-1942df9c5508>\u001b[0m in \u001b[0;36m<cell line: 2>\u001b[0;34m()\u001b[0m\n\u001b[1;32m      1\u001b[0m \u001b[0mcal_3\u001b[0m \u001b[0;34m=\u001b[0m \u001b[0mCalculator\u001b[0m\u001b[0;34m(\u001b[0m\u001b[0;34m)\u001b[0m\u001b[0;34m\u001b[0m\u001b[0;34m\u001b[0m\u001b[0m\n\u001b[0;32m----> 2\u001b[0;31m \u001b[0mcal_3\u001b[0m\u001b[0;34m.\u001b[0m\u001b[0maddition\u001b[0m\u001b[0;34m(\u001b[0m\u001b[0;34m)\u001b[0m\u001b[0;34m\u001b[0m\u001b[0;34m\u001b[0m\u001b[0m\n\u001b[0m",
            "\u001b[0;32m<ipython-input-7-28e912709af5>\u001b[0m in \u001b[0;36maddition\u001b[0;34m(self)\u001b[0m\n\u001b[1;32m      6\u001b[0m \u001b[0;34m\u001b[0m\u001b[0m\n\u001b[1;32m      7\u001b[0m     \u001b[0;32mdef\u001b[0m \u001b[0maddition\u001b[0m\u001b[0;34m(\u001b[0m\u001b[0mself\u001b[0m\u001b[0;34m)\u001b[0m\u001b[0;34m:\u001b[0m\u001b[0;34m\u001b[0m\u001b[0;34m\u001b[0m\u001b[0m\n\u001b[0;32m----> 8\u001b[0;31m         \u001b[0mresult\u001b[0m \u001b[0;34m=\u001b[0m \u001b[0mself\u001b[0m\u001b[0;34m.\u001b[0m\u001b[0mm\u001b[0m \u001b[0;34m+\u001b[0m \u001b[0mself\u001b[0m\u001b[0;34m.\u001b[0m\u001b[0mn\u001b[0m\u001b[0;34m\u001b[0m\u001b[0;34m\u001b[0m\u001b[0m\n\u001b[0m\u001b[1;32m      9\u001b[0m         \u001b[0;32mreturn\u001b[0m \u001b[0mresult\u001b[0m\u001b[0;34m\u001b[0m\u001b[0;34m\u001b[0m\u001b[0m\n\u001b[1;32m     10\u001b[0m \u001b[0;34m\u001b[0m\u001b[0m\n",
            "\u001b[0;31mAttributeError\u001b[0m: 'Calculator' object has no attribute 'm'"
          ]
        }
      ]
    },
    {
      "cell_type": "code",
      "source": [
        "class Calculator_2:\n",
        "\n",
        "    def __init__(self, m, n):\n",
        "        self.m = m\n",
        "        self.n = n\n",
        "        print('메모리에 인스턴스가 %d, %d 값과 함께 생성되었습니다.' % (m, n))\n",
        "\n",
        "    def input_data_2(self, m, n):\n",
        "        self.m = m\n",
        "        self.n = n\n",
        "\n",
        "    def subtraction(self):\n",
        "        result = self.m - self.n\n",
        "        return result\n",
        "\n",
        "cal_4 = Calculator_2(4, 8)"
      ],
      "metadata": {
        "colab": {
          "base_uri": "https://localhost:8080/"
        },
        "id": "gmdWOPLnSv3p",
        "outputId": "be692c54-d744-4714-b78b-19a4ee6c6142"
      },
      "execution_count": 10,
      "outputs": [
        {
          "output_type": "stream",
          "name": "stdout",
          "text": [
            "메모리에 인스턴스가 4, 8 값과 함께 생성되었습니다.\n"
          ]
        }
      ]
    },
    {
      "cell_type": "code",
      "source": [
        "cal_4.subtraction()"
      ],
      "metadata": {
        "colab": {
          "base_uri": "https://localhost:8080/"
        },
        "id": "jWRtvZ0cTYpa",
        "outputId": "acfb9de7-6bde-4e0d-d1fc-9101f4b35307"
      },
      "execution_count": 12,
      "outputs": [
        {
          "output_type": "execute_result",
          "data": {
            "text/plain": [
              "-4"
            ]
          },
          "metadata": {},
          "execution_count": 12
        }
      ]
    },
    {
      "cell_type": "code",
      "source": [
        "cal_4.input_data_2(4,2)\n",
        "cal_4.subtraction()"
      ],
      "metadata": {
        "colab": {
          "base_uri": "https://localhost:8080/"
        },
        "id": "-fcdRTWhTk9Z",
        "outputId": "9d072bcb-5f9c-495b-b0ea-7caa7bc9d13d"
      },
      "execution_count": 13,
      "outputs": [
        {
          "output_type": "execute_result",
          "data": {
            "text/plain": [
              "2"
            ]
          },
          "metadata": {},
          "execution_count": 13
        }
      ]
    },
    {
      "cell_type": "code",
      "source": [
        "class MyComputer(Calculator, Calculator_2):\n",
        "    def mutiplication(self):\n",
        "        result = self.m * self.n\n",
        "        return result\n",
        "\n",
        "    def division(self):\n",
        "        result = self.m / self.n\n",
        "        return result\n",
        "\n",
        "com_1 = MyComputer(8,2)\n",
        "\n",
        "com_1.addition()"
      ],
      "metadata": {
        "colab": {
          "base_uri": "https://localhost:8080/"
        },
        "id": "aKQBAMazT4mq",
        "outputId": "36fef672-1e53-4dbe-bc23-ffd3fb5f43d3"
      },
      "execution_count": 14,
      "outputs": [
        {
          "output_type": "stream",
          "name": "stdout",
          "text": [
            "메모리에 인스턴스가 8, 2 값과 함께 생성되었습니다.\n"
          ]
        },
        {
          "output_type": "execute_result",
          "data": {
            "text/plain": [
              "10"
            ]
          },
          "metadata": {},
          "execution_count": 14
        }
      ]
    },
    {
      "cell_type": "code",
      "source": [
        "com_1.subtraction()"
      ],
      "metadata": {
        "colab": {
          "base_uri": "https://localhost:8080/"
        },
        "id": "vIf-x7_wUciS",
        "outputId": "175f0431-a34b-4cb2-f9ce-5345ac0d5f29"
      },
      "execution_count": 15,
      "outputs": [
        {
          "output_type": "execute_result",
          "data": {
            "text/plain": [
              "6"
            ]
          },
          "metadata": {},
          "execution_count": 15
        }
      ]
    },
    {
      "cell_type": "code",
      "source": [
        "com_1.mutiplication()"
      ],
      "metadata": {
        "colab": {
          "base_uri": "https://localhost:8080/"
        },
        "id": "jJcU5c0uUgjs",
        "outputId": "d2973c0e-95f0-4c42-d219-a1f3d947e5a0"
      },
      "execution_count": 16,
      "outputs": [
        {
          "output_type": "execute_result",
          "data": {
            "text/plain": [
              "16"
            ]
          },
          "metadata": {},
          "execution_count": 16
        }
      ]
    },
    {
      "cell_type": "code",
      "source": [
        "com_1.division()"
      ],
      "metadata": {
        "colab": {
          "base_uri": "https://localhost:8080/"
        },
        "id": "cHd_ODJlUj8v",
        "outputId": "e3ec3d79-221b-47ef-8698-64f38beca950"
      },
      "execution_count": 17,
      "outputs": [
        {
          "output_type": "execute_result",
          "data": {
            "text/plain": [
              "4.0"
            ]
          },
          "metadata": {},
          "execution_count": 17
        }
      ]
    },
    {
      "cell_type": "code",
      "source": [
        "com_1.input_data_2(9,3)\n",
        "com_1.addition()"
      ],
      "metadata": {
        "colab": {
          "base_uri": "https://localhost:8080/"
        },
        "id": "uQtfBTSdUozS",
        "outputId": "bf2ee109-014a-4b86-96e7-07fbc3bc3a2f"
      },
      "execution_count": 18,
      "outputs": [
        {
          "output_type": "execute_result",
          "data": {
            "text/plain": [
              "12"
            ]
          },
          "metadata": {},
          "execution_count": 18
        }
      ]
    },
    {
      "cell_type": "code",
      "source": [
        "import myPackage.myLibrary\n",
        "\n",
        "myPackage.myLibrary.hi()"
      ],
      "metadata": {
        "colab": {
          "base_uri": "https://localhost:8080/"
        },
        "id": "XMcR8jN0VYHM",
        "outputId": "231c43b5-fa61-4069-e8e6-df69db071c6b"
      },
      "execution_count": 20,
      "outputs": [
        {
          "output_type": "stream",
          "name": "stdout",
          "text": [
            "Hello Package\n"
          ]
        }
      ]
    },
    {
      "cell_type": "code",
      "source": [
        "ins_1 = myPackage.myLibrary.myClass()\n",
        "com_2 = myPackage.myLibrary.myComputer(5,9)\n",
        "\n",
        "ins_1.func_1()"
      ],
      "metadata": {
        "colab": {
          "base_uri": "https://localhost:8080/"
        },
        "id": "WFZIbx7lWBKp",
        "outputId": "42a1a95c-521b-4894-e027-644b9aa11611"
      },
      "execution_count": 21,
      "outputs": [
        {
          "output_type": "stream",
          "name": "stdout",
          "text": [
            "메모리에 인스턴스가 5, 9 값과 함께 생성되었습니다.\n",
            "Hello Class\n"
          ]
        }
      ]
    },
    {
      "cell_type": "code",
      "source": [
        "com_2.multiplication()"
      ],
      "metadata": {
        "colab": {
          "base_uri": "https://localhost:8080/"
        },
        "id": "uNA54dWiWSwA",
        "outputId": "5c3c3727-9a43-453f-9b0e-cb0610fd0188"
      },
      "execution_count": 23,
      "outputs": [
        {
          "output_type": "execute_result",
          "data": {
            "text/plain": [
              "45"
            ]
          },
          "metadata": {},
          "execution_count": 23
        }
      ]
    },
    {
      "cell_type": "code",
      "source": [
        "import myPackage.myLibrary as mp\n",
        "\n",
        "mp.hi()"
      ],
      "metadata": {
        "colab": {
          "base_uri": "https://localhost:8080/"
        },
        "id": "sroxxszZWfZ7",
        "outputId": "56e780b1-c60e-4b15-e66a-1bb10d15b204"
      },
      "execution_count": 24,
      "outputs": [
        {
          "output_type": "stream",
          "name": "stdout",
          "text": [
            "Hello Package\n"
          ]
        }
      ]
    },
    {
      "cell_type": "code",
      "source": [
        "ins_2 = mp.myClass()\n",
        "ins_2.func_1()"
      ],
      "metadata": {
        "colab": {
          "base_uri": "https://localhost:8080/"
        },
        "id": "wEKoQGGVWoOd",
        "outputId": "cb26446c-b07b-4102-88e5-db3a826c0e1c"
      },
      "execution_count": 25,
      "outputs": [
        {
          "output_type": "stream",
          "name": "stdout",
          "text": [
            "Hello Class\n"
          ]
        }
      ]
    },
    {
      "cell_type": "code",
      "source": [
        "from myPackage.myLibrary import hi\n",
        "hi()"
      ],
      "metadata": {
        "colab": {
          "base_uri": "https://localhost:8080/"
        },
        "id": "17vinugGWvxz",
        "outputId": "f760030c-104e-44e7-e575-983efb3303d2"
      },
      "execution_count": 26,
      "outputs": [
        {
          "output_type": "stream",
          "name": "stdout",
          "text": [
            "Hello Package\n"
          ]
        }
      ]
    },
    {
      "cell_type": "code",
      "source": [
        "from myPackage.myLibrary import myComputer\n",
        "\n",
        "com_3 = myComputer(3,6)\n",
        "com_3.addition()"
      ],
      "metadata": {
        "colab": {
          "base_uri": "https://localhost:8080/"
        },
        "id": "tcDr-L9WW4ZJ",
        "outputId": "cc373f1d-6145-469b-f020-94ddb806454a"
      },
      "execution_count": 27,
      "outputs": [
        {
          "output_type": "stream",
          "name": "stdout",
          "text": [
            "메모리에 인스턴스가 3, 6 값과 함께 생성되었습니다.\n"
          ]
        },
        {
          "output_type": "execute_result",
          "data": {
            "text/plain": [
              "9"
            ]
          },
          "metadata": {},
          "execution_count": 27
        }
      ]
    }
  ]
}