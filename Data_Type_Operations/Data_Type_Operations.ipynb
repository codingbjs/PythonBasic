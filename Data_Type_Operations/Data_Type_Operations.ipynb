{
  "nbformat": 4,
  "nbformat_minor": 0,
  "metadata": {
    "colab": {
      "provenance": [],
      "authorship_tag": "ABX9TyPNu+KnTfH4kCnZg0Wdnl6k",
      "include_colab_link": true
    },
    "kernelspec": {
      "name": "python3",
      "display_name": "Python 3"
    },
    "language_info": {
      "name": "python"
    }
  },
  "cells": [
    {
      "cell_type": "markdown",
      "metadata": {
        "id": "view-in-github",
        "colab_type": "text"
      },
      "source": [
        "<a href=\"https://colab.research.google.com/github/codingbjs/PythonBasic/blob/main/Data_Type_Operations/Data_Type_Operations.ipynb\" target=\"_parent\"><img src=\"https://colab.research.google.com/assets/colab-badge.svg\" alt=\"Open In Colab\"/></a>"
      ]
    },
    {
      "cell_type": "code",
      "execution_count": null,
      "metadata": {
        "id": "MtPiKc_K7atn"
      },
      "outputs": [],
      "source": [
        "import warnings\n",
        "warnings.filterwarnings('ignore')"
      ]
    },
    {
      "cell_type": "code",
      "source": [
        "print('Hello World')\n",
        "print('Hello', 'World', sep='-')"
      ],
      "metadata": {
        "id": "baCuprRe9DAR"
      },
      "execution_count": null,
      "outputs": []
    },
    {
      "cell_type": "code",
      "source": [
        "help(print)"
      ],
      "metadata": {
        "id": "g22maoVD9afQ"
      },
      "execution_count": null,
      "outputs": []
    },
    {
      "cell_type": "code",
      "source": [
        "koo = 'Data Analytics'\n",
        "print(koo)"
      ],
      "metadata": {
        "id": "VUDidyhxYjjF"
      },
      "execution_count": null,
      "outputs": []
    },
    {
      "cell_type": "code",
      "source": [
        "import keyword\n",
        "keyword.kwlist"
      ],
      "metadata": {
        "id": "mVoQzv8z9xi3"
      },
      "execution_count": null,
      "outputs": []
    },
    {
      "cell_type": "code",
      "source": [
        "print(888)\n",
        "print(type(888))"
      ],
      "metadata": {
        "id": "YfOnnfa495aP"
      },
      "execution_count": null,
      "outputs": []
    },
    {
      "cell_type": "code",
      "source": [
        "print(0o77)\n",
        "print(type(0o77))"
      ],
      "metadata": {
        "id": "Dj8JB6c3-AJs"
      },
      "execution_count": null,
      "outputs": []
    },
    {
      "cell_type": "code",
      "source": [
        "print(0xff)\n",
        "print(type(0xff))"
      ],
      "metadata": {
        "id": "Iv-9F84V-dHt"
      },
      "execution_count": null,
      "outputs": []
    },
    {
      "cell_type": "code",
      "source": [
        "print(0b1001)\n",
        "print(type(0b1001))"
      ],
      "metadata": {
        "id": "9YCb2pG9-szN"
      },
      "execution_count": null,
      "outputs": []
    },
    {
      "cell_type": "code",
      "source": [
        "print(5e+4)\n",
        "print(type(5e+4))"
      ],
      "metadata": {
        "id": "6K1N1ahQ-5Ic"
      },
      "execution_count": null,
      "outputs": []
    },
    {
      "cell_type": "code",
      "source": [
        "print(8+9j)\n",
        "print(type(8+9j))"
      ],
      "metadata": {
        "id": "ZiOYyPkO_Bu0"
      },
      "execution_count": null,
      "outputs": []
    },
    {
      "cell_type": "code",
      "source": [
        "print('A')\n",
        "print(type('A'))"
      ],
      "metadata": {
        "id": "IHbileY9_R92"
      },
      "execution_count": null,
      "outputs": []
    },
    {
      "cell_type": "code",
      "source": [
        "print('Data Analytics')\n",
        "print(type('Data Analytics'))"
      ],
      "metadata": {
        "id": "79QmxLZT_zC6"
      },
      "execution_count": null,
      "outputs": []
    },
    {
      "cell_type": "code",
      "source": [
        "print(True)\n",
        "print(type(True))"
      ],
      "metadata": {
        "id": "zySl1SoVADqX"
      },
      "execution_count": null,
      "outputs": []
    },
    {
      "cell_type": "code",
      "source": [
        "print(False)\n",
        "print(type(False))"
      ],
      "metadata": {
        "id": "YdSBamAIANGj"
      },
      "execution_count": null,
      "outputs": []
    },
    {
      "cell_type": "code",
      "source": [
        "8+9"
      ],
      "metadata": {
        "id": "3twT8A67AW8W"
      },
      "execution_count": null,
      "outputs": []
    },
    {
      "cell_type": "code",
      "source": [
        "8-9"
      ],
      "metadata": {
        "id": "w4ye-Yt7Amhd"
      },
      "execution_count": null,
      "outputs": []
    },
    {
      "cell_type": "code",
      "source": [
        "8*9"
      ],
      "metadata": {
        "id": "on7zVUeJAokE"
      },
      "execution_count": null,
      "outputs": []
    },
    {
      "cell_type": "code",
      "source": [
        "10/3"
      ],
      "metadata": {
        "id": "R0rC7nCQAruN"
      },
      "execution_count": null,
      "outputs": []
    },
    {
      "cell_type": "code",
      "source": [
        "10//3"
      ],
      "metadata": {
        "id": "O70sxecNA2Gp"
      },
      "execution_count": null,
      "outputs": []
    },
    {
      "cell_type": "code",
      "source": [
        "10%3"
      ],
      "metadata": {
        "id": "8vBejDJXAyHj"
      },
      "execution_count": null,
      "outputs": []
    },
    {
      "cell_type": "code",
      "source": [
        "9**3"
      ],
      "metadata": {
        "id": "v-WwLp8ZA4Vi"
      },
      "execution_count": null,
      "outputs": []
    },
    {
      "cell_type": "code",
      "source": [
        "pow(9,2)"
      ],
      "metadata": {
        "id": "oanuZLEqA8Y4"
      },
      "execution_count": null,
      "outputs": []
    },
    {
      "cell_type": "code",
      "source": [
        "abs(-3)"
      ],
      "metadata": {
        "id": "ubA_uziIBDhP"
      },
      "execution_count": null,
      "outputs": []
    },
    {
      "cell_type": "code",
      "source": [
        "hex(16)"
      ],
      "metadata": {
        "id": "wZLEwuvbBGxH"
      },
      "execution_count": null,
      "outputs": []
    },
    {
      "cell_type": "code",
      "source": [
        "oct(8)"
      ],
      "metadata": {
        "id": "K6cR16I4BMlb"
      },
      "execution_count": null,
      "outputs": []
    },
    {
      "cell_type": "code",
      "source": [
        "bin(9)"
      ],
      "metadata": {
        "id": "ZbMvMqBaBQMQ"
      },
      "execution_count": null,
      "outputs": []
    },
    {
      "cell_type": "code",
      "source": [
        "round(24.47)"
      ],
      "metadata": {
        "id": "YyRBQA_1BTpp"
      },
      "execution_count": null,
      "outputs": []
    },
    {
      "cell_type": "code",
      "source": [
        "round(24.57)"
      ],
      "metadata": {
        "id": "o9ou8_VgBgwL"
      },
      "execution_count": null,
      "outputs": []
    },
    {
      "cell_type": "code",
      "source": [
        "round(24.57, ndigits=0)"
      ],
      "metadata": {
        "id": "aCtrc4uZBX65"
      },
      "execution_count": null,
      "outputs": []
    },
    {
      "cell_type": "code",
      "source": [
        "round(24.57, ndigits=0)"
      ],
      "metadata": {
        "id": "tFZeW1OEB7r5"
      },
      "execution_count": null,
      "outputs": []
    },
    {
      "cell_type": "code",
      "source": [
        "round(24.57, ndigits=-1)"
      ],
      "metadata": {
        "id": "ZJ69bDrlB0NU"
      },
      "execution_count": null,
      "outputs": []
    },
    {
      "cell_type": "code",
      "source": [
        "round(25.47, ndigits=-1)"
      ],
      "metadata": {
        "id": "wbhwM299CBkg"
      },
      "execution_count": null,
      "outputs": []
    },
    {
      "cell_type": "code",
      "source": [
        "round(25.478, ndigits=2)"
      ],
      "metadata": {
        "id": "fbs1M6dOCLJQ"
      },
      "execution_count": null,
      "outputs": []
    },
    {
      "cell_type": "code",
      "source": [
        "8>9"
      ],
      "metadata": {
        "id": "dTPrQkhxCTb9"
      },
      "execution_count": null,
      "outputs": []
    },
    {
      "cell_type": "code",
      "source": [
        "8<9"
      ],
      "metadata": {
        "id": "bi0RC_uFCV3K"
      },
      "execution_count": null,
      "outputs": []
    },
    {
      "cell_type": "code",
      "source": [
        "8>=9"
      ],
      "metadata": {
        "id": "9kDDYtnPCXzM"
      },
      "execution_count": null,
      "outputs": []
    },
    {
      "cell_type": "code",
      "source": [
        "8<=9"
      ],
      "metadata": {
        "id": "XyuYqu3ECafM"
      },
      "execution_count": null,
      "outputs": []
    },
    {
      "cell_type": "code",
      "source": [
        "8==9"
      ],
      "metadata": {
        "id": "ZsoDiXTxCeC2"
      },
      "execution_count": null,
      "outputs": []
    },
    {
      "cell_type": "code",
      "source": [
        "8!=9"
      ],
      "metadata": {
        "id": "FFVDzAIQChQh"
      },
      "execution_count": null,
      "outputs": []
    },
    {
      "cell_type": "code",
      "source": [
        "'A'>'B'"
      ],
      "metadata": {
        "id": "PRer6DQKCml7"
      },
      "execution_count": null,
      "outputs": []
    },
    {
      "cell_type": "code",
      "source": [
        "'A'<'B'"
      ],
      "metadata": {
        "id": "CcXYOE6ICqPj"
      },
      "execution_count": null,
      "outputs": []
    },
    {
      "cell_type": "code",
      "source": [
        "'A'=='B'"
      ],
      "metadata": {
        "id": "7lKfdCUBCsU-"
      },
      "execution_count": null,
      "outputs": []
    },
    {
      "cell_type": "code",
      "source": [
        "'A'!='B'"
      ],
      "metadata": {
        "id": "EwZQ74N9Cu2P"
      },
      "execution_count": null,
      "outputs": []
    },
    {
      "cell_type": "code",
      "source": [
        "'팔'>9"
      ],
      "metadata": {
        "id": "KfkoNWFYCy0N"
      },
      "execution_count": null,
      "outputs": []
    },
    {
      "cell_type": "code",
      "source": [
        "'A'>9"
      ],
      "metadata": {
        "id": "oWESIgeAC3nf"
      },
      "execution_count": null,
      "outputs": []
    },
    {
      "cell_type": "code",
      "source": [
        "x=True\n",
        "y=False\n",
        "z=True\n",
        "print(x,y,z)"
      ],
      "metadata": {
        "id": "qX787jpPC78h"
      },
      "execution_count": null,
      "outputs": []
    },
    {
      "cell_type": "code",
      "source": [
        "x and y"
      ],
      "metadata": {
        "id": "xrvu6SCADKIl"
      },
      "execution_count": null,
      "outputs": []
    },
    {
      "cell_type": "code",
      "source": [
        "x or y"
      ],
      "metadata": {
        "id": "Wk12j63XDRUs"
      },
      "execution_count": null,
      "outputs": []
    },
    {
      "cell_type": "code",
      "source": [
        "not x"
      ],
      "metadata": {
        "id": "Eg98vRBJDT6W"
      },
      "execution_count": null,
      "outputs": []
    },
    {
      "cell_type": "code",
      "source": [
        "(x and y) and (y and z)"
      ],
      "metadata": {
        "id": "1C0BM-3pDYB5"
      },
      "execution_count": null,
      "outputs": []
    }
  ]
}