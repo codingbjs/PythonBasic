{
  "nbformat": 4,
  "nbformat_minor": 0,
  "metadata": {
    "colab": {
      "provenance": [],
      "authorship_tag": "ABX9TyPNu+KnTfH4kCnZg0Wdnl6k",
      "include_colab_link": true
    },
    "kernelspec": {
      "name": "python3",
      "display_name": "Python 3"
    },
    "language_info": {
      "name": "python"
    }
  },
  "cells": [
    {
      "cell_type": "markdown",
      "metadata": {
        "id": "view-in-github",
        "colab_type": "text"
      },
      "source": [
        "<a href=\"https://colab.research.google.com/github/codingbjs/PythonBasic/blob/main/Data_Type_Operations/Data_Type_Operations.ipynb\" target=\"_parent\"><img src=\"https://colab.research.google.com/assets/colab-badge.svg\" alt=\"Open In Colab\"/></a>"
      ]
    },
    {
      "cell_type": "code",
      "execution_count": 1,
      "metadata": {
        "id": "MtPiKc_K7atn"
      },
      "outputs": [],
      "source": [
        "import warnings\n",
        "warnings.filterwarnings('ignore')"
      ]
    },
    {
      "cell_type": "code",
      "source": [
        "print('Hello World')\n",
        "print('Hello', 'World', sep='-')"
      ],
      "metadata": {
        "id": "baCuprRe9DAR",
        "colab": {
          "base_uri": "https://localhost:8080/"
        },
        "outputId": "132969a9-21e4-41d6-b96f-c73994316f20"
      },
      "execution_count": 2,
      "outputs": [
        {
          "output_type": "stream",
          "name": "stdout",
          "text": [
            "Hello World\n",
            "Hello-World\n"
          ]
        }
      ]
    },
    {
      "cell_type": "code",
      "source": [
        "help(print)"
      ],
      "metadata": {
        "id": "g22maoVD9afQ",
        "colab": {
          "base_uri": "https://localhost:8080/"
        },
        "outputId": "55e75b1e-1262-4cbb-b3e8-596bf303cd5c"
      },
      "execution_count": 3,
      "outputs": [
        {
          "output_type": "stream",
          "name": "stdout",
          "text": [
            "Help on built-in function print in module builtins:\n",
            "\n",
            "print(...)\n",
            "    print(value, ..., sep=' ', end='\\n', file=sys.stdout, flush=False)\n",
            "    \n",
            "    Prints the values to a stream, or to sys.stdout by default.\n",
            "    Optional keyword arguments:\n",
            "    file:  a file-like object (stream); defaults to the current sys.stdout.\n",
            "    sep:   string inserted between values, default a space.\n",
            "    end:   string appended after the last value, default a newline.\n",
            "    flush: whether to forcibly flush the stream.\n",
            "\n"
          ]
        }
      ]
    },
    {
      "cell_type": "code",
      "source": [
        "koo = 'Data Analytics'\n",
        "print(koo)"
      ],
      "metadata": {
        "id": "VUDidyhxYjjF",
        "colab": {
          "base_uri": "https://localhost:8080/"
        },
        "outputId": "1f55fefa-2a7a-49d6-9279-177f5ba40608"
      },
      "execution_count": 4,
      "outputs": [
        {
          "output_type": "stream",
          "name": "stdout",
          "text": [
            "Data Analytics\n"
          ]
        }
      ]
    },
    {
      "cell_type": "code",
      "source": [
        "import keyword\n",
        "keyword.kwlist"
      ],
      "metadata": {
        "id": "mVoQzv8z9xi3",
        "colab": {
          "base_uri": "https://localhost:8080/"
        },
        "outputId": "c82a3722-04bb-4f44-ce83-16a145d7df46"
      },
      "execution_count": 5,
      "outputs": [
        {
          "output_type": "execute_result",
          "data": {
            "text/plain": [
              "['False',\n",
              " 'None',\n",
              " 'True',\n",
              " 'and',\n",
              " 'as',\n",
              " 'assert',\n",
              " 'async',\n",
              " 'await',\n",
              " 'break',\n",
              " 'class',\n",
              " 'continue',\n",
              " 'def',\n",
              " 'del',\n",
              " 'elif',\n",
              " 'else',\n",
              " 'except',\n",
              " 'finally',\n",
              " 'for',\n",
              " 'from',\n",
              " 'global',\n",
              " 'if',\n",
              " 'import',\n",
              " 'in',\n",
              " 'is',\n",
              " 'lambda',\n",
              " 'nonlocal',\n",
              " 'not',\n",
              " 'or',\n",
              " 'pass',\n",
              " 'raise',\n",
              " 'return',\n",
              " 'try',\n",
              " 'while',\n",
              " 'with',\n",
              " 'yield']"
            ]
          },
          "metadata": {},
          "execution_count": 5
        }
      ]
    },
    {
      "cell_type": "code",
      "source": [
        "print(888)\n",
        "print(type(888))"
      ],
      "metadata": {
        "id": "YfOnnfa495aP",
        "colab": {
          "base_uri": "https://localhost:8080/"
        },
        "outputId": "d9a5e806-58e3-4bbd-d4c0-32be76c41f4a"
      },
      "execution_count": 6,
      "outputs": [
        {
          "output_type": "stream",
          "name": "stdout",
          "text": [
            "888\n",
            "<class 'int'>\n"
          ]
        }
      ]
    },
    {
      "cell_type": "code",
      "source": [
        "print(0o77)\n",
        "print(type(0o77))"
      ],
      "metadata": {
        "id": "Dj8JB6c3-AJs",
        "colab": {
          "base_uri": "https://localhost:8080/"
        },
        "outputId": "7b14deb8-9b26-4680-b792-78bd66bf9da0"
      },
      "execution_count": 7,
      "outputs": [
        {
          "output_type": "stream",
          "name": "stdout",
          "text": [
            "63\n",
            "<class 'int'>\n"
          ]
        }
      ]
    },
    {
      "cell_type": "code",
      "source": [
        "print(0xff)\n",
        "print(type(0xff))"
      ],
      "metadata": {
        "id": "Iv-9F84V-dHt",
        "colab": {
          "base_uri": "https://localhost:8080/"
        },
        "outputId": "68ff3972-46b9-4c51-8a60-1c80792add02"
      },
      "execution_count": 8,
      "outputs": [
        {
          "output_type": "stream",
          "name": "stdout",
          "text": [
            "255\n",
            "<class 'int'>\n"
          ]
        }
      ]
    },
    {
      "cell_type": "code",
      "source": [
        "print(0b1001)\n",
        "print(type(0b1001))"
      ],
      "metadata": {
        "id": "9YCb2pG9-szN",
        "colab": {
          "base_uri": "https://localhost:8080/"
        },
        "outputId": "a4b822e8-114b-47da-8826-6c54ebae40e1"
      },
      "execution_count": 9,
      "outputs": [
        {
          "output_type": "stream",
          "name": "stdout",
          "text": [
            "9\n",
            "<class 'int'>\n"
          ]
        }
      ]
    },
    {
      "cell_type": "code",
      "source": [
        "print(5e+4)\n",
        "print(type(5e+4))"
      ],
      "metadata": {
        "id": "6K1N1ahQ-5Ic",
        "colab": {
          "base_uri": "https://localhost:8080/"
        },
        "outputId": "d7d17007-5edf-4abf-d5bb-0c06045964b7"
      },
      "execution_count": 10,
      "outputs": [
        {
          "output_type": "stream",
          "name": "stdout",
          "text": [
            "50000.0\n",
            "<class 'float'>\n"
          ]
        }
      ]
    },
    {
      "cell_type": "code",
      "source": [
        "print(8+9j)\n",
        "print(type(8+9j))"
      ],
      "metadata": {
        "id": "ZiOYyPkO_Bu0",
        "colab": {
          "base_uri": "https://localhost:8080/"
        },
        "outputId": "333cba7d-c14d-47b3-ff34-c55bc50506a8"
      },
      "execution_count": 11,
      "outputs": [
        {
          "output_type": "stream",
          "name": "stdout",
          "text": [
            "(8+9j)\n",
            "<class 'complex'>\n"
          ]
        }
      ]
    },
    {
      "cell_type": "code",
      "source": [
        "print('A')\n",
        "print(type('A'))"
      ],
      "metadata": {
        "id": "IHbileY9_R92",
        "colab": {
          "base_uri": "https://localhost:8080/"
        },
        "outputId": "12f6fd94-25a9-4d0b-9bbc-0a702f793332"
      },
      "execution_count": 12,
      "outputs": [
        {
          "output_type": "stream",
          "name": "stdout",
          "text": [
            "A\n",
            "<class 'str'>\n"
          ]
        }
      ]
    },
    {
      "cell_type": "code",
      "source": [
        "print('Data Analytics')\n",
        "print(type('Data Analytics'))"
      ],
      "metadata": {
        "id": "79QmxLZT_zC6",
        "colab": {
          "base_uri": "https://localhost:8080/"
        },
        "outputId": "015a24b5-1d86-4039-8066-05e9f3afc7a8"
      },
      "execution_count": 13,
      "outputs": [
        {
          "output_type": "stream",
          "name": "stdout",
          "text": [
            "Data Analytics\n",
            "<class 'str'>\n"
          ]
        }
      ]
    },
    {
      "cell_type": "code",
      "source": [
        "print(True)\n",
        "print(type(True))"
      ],
      "metadata": {
        "id": "zySl1SoVADqX",
        "colab": {
          "base_uri": "https://localhost:8080/"
        },
        "outputId": "c8062b3c-57bd-4515-8dd7-df0feb96ed5e"
      },
      "execution_count": 14,
      "outputs": [
        {
          "output_type": "stream",
          "name": "stdout",
          "text": [
            "True\n",
            "<class 'bool'>\n"
          ]
        }
      ]
    },
    {
      "cell_type": "code",
      "source": [
        "print(False)\n",
        "print(type(False))"
      ],
      "metadata": {
        "id": "YdSBamAIANGj",
        "colab": {
          "base_uri": "https://localhost:8080/"
        },
        "outputId": "a30c465e-f701-4e46-cd32-4a1205880ffe"
      },
      "execution_count": 15,
      "outputs": [
        {
          "output_type": "stream",
          "name": "stdout",
          "text": [
            "False\n",
            "<class 'bool'>\n"
          ]
        }
      ]
    },
    {
      "cell_type": "code",
      "source": [
        "8+9"
      ],
      "metadata": {
        "id": "3twT8A67AW8W",
        "colab": {
          "base_uri": "https://localhost:8080/"
        },
        "outputId": "c7724943-6709-490e-afda-230baf7885f8"
      },
      "execution_count": 16,
      "outputs": [
        {
          "output_type": "execute_result",
          "data": {
            "text/plain": [
              "17"
            ]
          },
          "metadata": {},
          "execution_count": 16
        }
      ]
    },
    {
      "cell_type": "code",
      "source": [
        "8-9"
      ],
      "metadata": {
        "id": "w4ye-Yt7Amhd",
        "colab": {
          "base_uri": "https://localhost:8080/"
        },
        "outputId": "42366ab1-8936-4bf0-800c-20b3b021cc74"
      },
      "execution_count": 17,
      "outputs": [
        {
          "output_type": "execute_result",
          "data": {
            "text/plain": [
              "-1"
            ]
          },
          "metadata": {},
          "execution_count": 17
        }
      ]
    },
    {
      "cell_type": "code",
      "source": [
        "8*9"
      ],
      "metadata": {
        "id": "on7zVUeJAokE",
        "colab": {
          "base_uri": "https://localhost:8080/"
        },
        "outputId": "e5255b80-896f-465c-ca98-0a95693feab2"
      },
      "execution_count": 18,
      "outputs": [
        {
          "output_type": "execute_result",
          "data": {
            "text/plain": [
              "72"
            ]
          },
          "metadata": {},
          "execution_count": 18
        }
      ]
    },
    {
      "cell_type": "code",
      "source": [
        "10/3"
      ],
      "metadata": {
        "id": "R0rC7nCQAruN",
        "colab": {
          "base_uri": "https://localhost:8080/"
        },
        "outputId": "77075554-b199-4f24-b7b8-c54ec73f9fb2"
      },
      "execution_count": 19,
      "outputs": [
        {
          "output_type": "execute_result",
          "data": {
            "text/plain": [
              "3.3333333333333335"
            ]
          },
          "metadata": {},
          "execution_count": 19
        }
      ]
    },
    {
      "cell_type": "code",
      "source": [
        "10//3"
      ],
      "metadata": {
        "id": "O70sxecNA2Gp",
        "colab": {
          "base_uri": "https://localhost:8080/"
        },
        "outputId": "09e520f3-69fb-4081-c17c-7fb57aae070b"
      },
      "execution_count": 20,
      "outputs": [
        {
          "output_type": "execute_result",
          "data": {
            "text/plain": [
              "3"
            ]
          },
          "metadata": {},
          "execution_count": 20
        }
      ]
    },
    {
      "cell_type": "code",
      "source": [
        "10%3"
      ],
      "metadata": {
        "id": "8vBejDJXAyHj",
        "colab": {
          "base_uri": "https://localhost:8080/"
        },
        "outputId": "3466eb3f-08f5-492e-8236-a5bb5cce4429"
      },
      "execution_count": 21,
      "outputs": [
        {
          "output_type": "execute_result",
          "data": {
            "text/plain": [
              "1"
            ]
          },
          "metadata": {},
          "execution_count": 21
        }
      ]
    },
    {
      "cell_type": "code",
      "source": [
        "9**3"
      ],
      "metadata": {
        "id": "v-WwLp8ZA4Vi",
        "colab": {
          "base_uri": "https://localhost:8080/"
        },
        "outputId": "525dc53d-7253-4524-d728-94464311f06f"
      },
      "execution_count": 22,
      "outputs": [
        {
          "output_type": "execute_result",
          "data": {
            "text/plain": [
              "729"
            ]
          },
          "metadata": {},
          "execution_count": 22
        }
      ]
    },
    {
      "cell_type": "code",
      "source": [
        "pow(9,2)"
      ],
      "metadata": {
        "id": "oanuZLEqA8Y4",
        "colab": {
          "base_uri": "https://localhost:8080/"
        },
        "outputId": "8cb9ee2f-6b42-4689-d21e-052b691c7b17"
      },
      "execution_count": 23,
      "outputs": [
        {
          "output_type": "execute_result",
          "data": {
            "text/plain": [
              "81"
            ]
          },
          "metadata": {},
          "execution_count": 23
        }
      ]
    },
    {
      "cell_type": "code",
      "source": [
        "abs(-3)"
      ],
      "metadata": {
        "id": "ubA_uziIBDhP",
        "colab": {
          "base_uri": "https://localhost:8080/"
        },
        "outputId": "2aaf699f-89fd-401b-85bb-b98cc0c2dec2"
      },
      "execution_count": 24,
      "outputs": [
        {
          "output_type": "execute_result",
          "data": {
            "text/plain": [
              "3"
            ]
          },
          "metadata": {},
          "execution_count": 24
        }
      ]
    },
    {
      "cell_type": "code",
      "source": [
        "hex(16)"
      ],
      "metadata": {
        "id": "wZLEwuvbBGxH",
        "colab": {
          "base_uri": "https://localhost:8080/",
          "height": 35
        },
        "outputId": "66ff3571-4819-4f0e-b0a1-6c18b0b61ea9"
      },
      "execution_count": 25,
      "outputs": [
        {
          "output_type": "execute_result",
          "data": {
            "text/plain": [
              "'0x10'"
            ],
            "application/vnd.google.colaboratory.intrinsic+json": {
              "type": "string"
            }
          },
          "metadata": {},
          "execution_count": 25
        }
      ]
    },
    {
      "cell_type": "code",
      "source": [
        "oct(8)"
      ],
      "metadata": {
        "id": "K6cR16I4BMlb",
        "colab": {
          "base_uri": "https://localhost:8080/",
          "height": 35
        },
        "outputId": "a903e1ec-3d91-4230-8c8a-b7cc304ad8f4"
      },
      "execution_count": 26,
      "outputs": [
        {
          "output_type": "execute_result",
          "data": {
            "text/plain": [
              "'0o10'"
            ],
            "application/vnd.google.colaboratory.intrinsic+json": {
              "type": "string"
            }
          },
          "metadata": {},
          "execution_count": 26
        }
      ]
    },
    {
      "cell_type": "code",
      "source": [
        "bin(9)"
      ],
      "metadata": {
        "id": "ZbMvMqBaBQMQ",
        "colab": {
          "base_uri": "https://localhost:8080/",
          "height": 35
        },
        "outputId": "11f61e90-4463-4bc0-cd6e-202683571e19"
      },
      "execution_count": 27,
      "outputs": [
        {
          "output_type": "execute_result",
          "data": {
            "text/plain": [
              "'0b1001'"
            ],
            "application/vnd.google.colaboratory.intrinsic+json": {
              "type": "string"
            }
          },
          "metadata": {},
          "execution_count": 27
        }
      ]
    },
    {
      "cell_type": "code",
      "source": [
        "round(24.47)"
      ],
      "metadata": {
        "id": "YyRBQA_1BTpp",
        "colab": {
          "base_uri": "https://localhost:8080/"
        },
        "outputId": "ca05c2b5-932f-488f-cfb7-ed5ad5eb0691"
      },
      "execution_count": 28,
      "outputs": [
        {
          "output_type": "execute_result",
          "data": {
            "text/plain": [
              "24"
            ]
          },
          "metadata": {},
          "execution_count": 28
        }
      ]
    },
    {
      "cell_type": "code",
      "source": [
        "round(24.57)"
      ],
      "metadata": {
        "id": "o9ou8_VgBgwL",
        "colab": {
          "base_uri": "https://localhost:8080/"
        },
        "outputId": "42229f52-e874-4bc3-85d1-93d7d79cb055"
      },
      "execution_count": 29,
      "outputs": [
        {
          "output_type": "execute_result",
          "data": {
            "text/plain": [
              "25"
            ]
          },
          "metadata": {},
          "execution_count": 29
        }
      ]
    },
    {
      "cell_type": "code",
      "source": [
        "round(24.57, ndigits=0)"
      ],
      "metadata": {
        "id": "aCtrc4uZBX65",
        "colab": {
          "base_uri": "https://localhost:8080/"
        },
        "outputId": "6f588aa4-8085-4d45-b9b8-53872b5a2e28"
      },
      "execution_count": 30,
      "outputs": [
        {
          "output_type": "execute_result",
          "data": {
            "text/plain": [
              "25.0"
            ]
          },
          "metadata": {},
          "execution_count": 30
        }
      ]
    },
    {
      "cell_type": "code",
      "source": [
        "round(24.57, ndigits=0)"
      ],
      "metadata": {
        "id": "tFZeW1OEB7r5",
        "colab": {
          "base_uri": "https://localhost:8080/"
        },
        "outputId": "acce31f4-bd10-4e86-d538-fcb6a13e8fe6"
      },
      "execution_count": 31,
      "outputs": [
        {
          "output_type": "execute_result",
          "data": {
            "text/plain": [
              "25.0"
            ]
          },
          "metadata": {},
          "execution_count": 31
        }
      ]
    },
    {
      "cell_type": "code",
      "source": [
        "round(24.57, ndigits=-1)"
      ],
      "metadata": {
        "id": "ZJ69bDrlB0NU",
        "colab": {
          "base_uri": "https://localhost:8080/"
        },
        "outputId": "8c28f1fc-f0e8-499c-a1ec-c8bcce199006"
      },
      "execution_count": 32,
      "outputs": [
        {
          "output_type": "execute_result",
          "data": {
            "text/plain": [
              "20.0"
            ]
          },
          "metadata": {},
          "execution_count": 32
        }
      ]
    },
    {
      "cell_type": "code",
      "source": [
        "round(25.47, ndigits=-1)"
      ],
      "metadata": {
        "id": "wbhwM299CBkg",
        "colab": {
          "base_uri": "https://localhost:8080/"
        },
        "outputId": "ddf3360c-40f4-40a9-82bb-213f95361998"
      },
      "execution_count": 33,
      "outputs": [
        {
          "output_type": "execute_result",
          "data": {
            "text/plain": [
              "30.0"
            ]
          },
          "metadata": {},
          "execution_count": 33
        }
      ]
    },
    {
      "cell_type": "code",
      "source": [
        "round(25.478, ndigits=2)"
      ],
      "metadata": {
        "id": "fbs1M6dOCLJQ",
        "colab": {
          "base_uri": "https://localhost:8080/"
        },
        "outputId": "369f84a7-6fb5-4205-d2b6-05e21761c9ba"
      },
      "execution_count": 34,
      "outputs": [
        {
          "output_type": "execute_result",
          "data": {
            "text/plain": [
              "25.48"
            ]
          },
          "metadata": {},
          "execution_count": 34
        }
      ]
    },
    {
      "cell_type": "code",
      "source": [
        "8>9"
      ],
      "metadata": {
        "id": "dTPrQkhxCTb9",
        "colab": {
          "base_uri": "https://localhost:8080/"
        },
        "outputId": "ed71c9d5-5f34-4b42-ac12-d7b3186f7fa8"
      },
      "execution_count": 35,
      "outputs": [
        {
          "output_type": "execute_result",
          "data": {
            "text/plain": [
              "False"
            ]
          },
          "metadata": {},
          "execution_count": 35
        }
      ]
    },
    {
      "cell_type": "code",
      "source": [
        "8<9"
      ],
      "metadata": {
        "id": "bi0RC_uFCV3K",
        "colab": {
          "base_uri": "https://localhost:8080/"
        },
        "outputId": "04ecae1e-193e-497b-a8fb-f52bca2d173c"
      },
      "execution_count": 36,
      "outputs": [
        {
          "output_type": "execute_result",
          "data": {
            "text/plain": [
              "True"
            ]
          },
          "metadata": {},
          "execution_count": 36
        }
      ]
    },
    {
      "cell_type": "code",
      "source": [
        "8>=9"
      ],
      "metadata": {
        "id": "9kDDYtnPCXzM",
        "colab": {
          "base_uri": "https://localhost:8080/"
        },
        "outputId": "43fea254-bc41-4772-fc2a-c97a5862ab38"
      },
      "execution_count": 37,
      "outputs": [
        {
          "output_type": "execute_result",
          "data": {
            "text/plain": [
              "False"
            ]
          },
          "metadata": {},
          "execution_count": 37
        }
      ]
    },
    {
      "cell_type": "code",
      "source": [
        "8<=9"
      ],
      "metadata": {
        "id": "XyuYqu3ECafM",
        "colab": {
          "base_uri": "https://localhost:8080/"
        },
        "outputId": "ec011c9d-7978-47a4-eabc-67eae761510a"
      },
      "execution_count": 38,
      "outputs": [
        {
          "output_type": "execute_result",
          "data": {
            "text/plain": [
              "True"
            ]
          },
          "metadata": {},
          "execution_count": 38
        }
      ]
    },
    {
      "cell_type": "code",
      "source": [
        "8==9"
      ],
      "metadata": {
        "id": "ZsoDiXTxCeC2",
        "colab": {
          "base_uri": "https://localhost:8080/"
        },
        "outputId": "c0260104-0507-41c0-db20-a03b8365b205"
      },
      "execution_count": 39,
      "outputs": [
        {
          "output_type": "execute_result",
          "data": {
            "text/plain": [
              "False"
            ]
          },
          "metadata": {},
          "execution_count": 39
        }
      ]
    },
    {
      "cell_type": "code",
      "source": [
        "8!=9"
      ],
      "metadata": {
        "id": "FFVDzAIQChQh",
        "colab": {
          "base_uri": "https://localhost:8080/"
        },
        "outputId": "f77de879-6b86-408d-f27c-10b620b8144c"
      },
      "execution_count": 40,
      "outputs": [
        {
          "output_type": "execute_result",
          "data": {
            "text/plain": [
              "True"
            ]
          },
          "metadata": {},
          "execution_count": 40
        }
      ]
    },
    {
      "cell_type": "code",
      "source": [
        "'A'>'B'"
      ],
      "metadata": {
        "id": "PRer6DQKCml7",
        "colab": {
          "base_uri": "https://localhost:8080/"
        },
        "outputId": "d19e9bd1-abf2-410c-cb1a-bcb94d435934"
      },
      "execution_count": 41,
      "outputs": [
        {
          "output_type": "execute_result",
          "data": {
            "text/plain": [
              "False"
            ]
          },
          "metadata": {},
          "execution_count": 41
        }
      ]
    },
    {
      "cell_type": "code",
      "source": [
        "'A'<'B'"
      ],
      "metadata": {
        "id": "CcXYOE6ICqPj",
        "colab": {
          "base_uri": "https://localhost:8080/"
        },
        "outputId": "360f2cae-3d8e-4189-8625-dbde5f1226bc"
      },
      "execution_count": 42,
      "outputs": [
        {
          "output_type": "execute_result",
          "data": {
            "text/plain": [
              "True"
            ]
          },
          "metadata": {},
          "execution_count": 42
        }
      ]
    },
    {
      "cell_type": "code",
      "source": [
        "'A'=='B'"
      ],
      "metadata": {
        "id": "7lKfdCUBCsU-",
        "colab": {
          "base_uri": "https://localhost:8080/"
        },
        "outputId": "a9420815-86d7-4be1-8fd4-d78c2bef7d22"
      },
      "execution_count": 43,
      "outputs": [
        {
          "output_type": "execute_result",
          "data": {
            "text/plain": [
              "False"
            ]
          },
          "metadata": {},
          "execution_count": 43
        }
      ]
    },
    {
      "cell_type": "code",
      "source": [
        "'A'!='B'"
      ],
      "metadata": {
        "id": "EwZQ74N9Cu2P",
        "colab": {
          "base_uri": "https://localhost:8080/"
        },
        "outputId": "c96e8cd0-e159-40d0-e1ca-cc7c03216254"
      },
      "execution_count": 44,
      "outputs": [
        {
          "output_type": "execute_result",
          "data": {
            "text/plain": [
              "True"
            ]
          },
          "metadata": {},
          "execution_count": 44
        }
      ]
    },
    {
      "cell_type": "code",
      "source": [
        "'팔'>9"
      ],
      "metadata": {
        "id": "KfkoNWFYCy0N",
        "colab": {
          "base_uri": "https://localhost:8080/",
          "height": 184
        },
        "outputId": "d3a76c51-d686-4a1c-9fed-18f828a2e441"
      },
      "execution_count": 45,
      "outputs": [
        {
          "output_type": "error",
          "ename": "TypeError",
          "evalue": "ignored",
          "traceback": [
            "\u001b[0;31m---------------------------------------------------------------------------\u001b[0m",
            "\u001b[0;31mTypeError\u001b[0m                                 Traceback (most recent call last)",
            "\u001b[0;32m<ipython-input-45-c5dba9a6b2aa>\u001b[0m in \u001b[0;36m<cell line: 1>\u001b[0;34m()\u001b[0m\n\u001b[0;32m----> 1\u001b[0;31m \u001b[0;34m'팔'\u001b[0m\u001b[0;34m>\u001b[0m\u001b[0;36m9\u001b[0m\u001b[0;34m\u001b[0m\u001b[0;34m\u001b[0m\u001b[0m\n\u001b[0m",
            "\u001b[0;31mTypeError\u001b[0m: '>' not supported between instances of 'str' and 'int'"
          ]
        }
      ]
    },
    {
      "cell_type": "code",
      "source": [
        "'A'>9"
      ],
      "metadata": {
        "id": "oWESIgeAC3nf",
        "colab": {
          "base_uri": "https://localhost:8080/",
          "height": 184
        },
        "outputId": "12e262d2-2eb2-4602-fa72-522fd9c9ad97"
      },
      "execution_count": 46,
      "outputs": [
        {
          "output_type": "error",
          "ename": "TypeError",
          "evalue": "ignored",
          "traceback": [
            "\u001b[0;31m---------------------------------------------------------------------------\u001b[0m",
            "\u001b[0;31mTypeError\u001b[0m                                 Traceback (most recent call last)",
            "\u001b[0;32m<ipython-input-46-ff338dfdc0ac>\u001b[0m in \u001b[0;36m<cell line: 1>\u001b[0;34m()\u001b[0m\n\u001b[0;32m----> 1\u001b[0;31m \u001b[0;34m'A'\u001b[0m\u001b[0;34m>\u001b[0m\u001b[0;36m9\u001b[0m\u001b[0;34m\u001b[0m\u001b[0;34m\u001b[0m\u001b[0m\n\u001b[0m",
            "\u001b[0;31mTypeError\u001b[0m: '>' not supported between instances of 'str' and 'int'"
          ]
        }
      ]
    },
    {
      "cell_type": "code",
      "source": [
        "x=True\n",
        "y=False\n",
        "z=True\n",
        "print(x,y,z)"
      ],
      "metadata": {
        "id": "qX787jpPC78h",
        "colab": {
          "base_uri": "https://localhost:8080/"
        },
        "outputId": "c7334296-2170-4536-b691-01a3afc705de"
      },
      "execution_count": 47,
      "outputs": [
        {
          "output_type": "stream",
          "name": "stdout",
          "text": [
            "True False True\n"
          ]
        }
      ]
    },
    {
      "cell_type": "code",
      "source": [
        "x and y"
      ],
      "metadata": {
        "id": "xrvu6SCADKIl",
        "colab": {
          "base_uri": "https://localhost:8080/"
        },
        "outputId": "792a8c1e-4985-402c-92ce-a2063dadee49"
      },
      "execution_count": 48,
      "outputs": [
        {
          "output_type": "execute_result",
          "data": {
            "text/plain": [
              "False"
            ]
          },
          "metadata": {},
          "execution_count": 48
        }
      ]
    },
    {
      "cell_type": "code",
      "source": [
        "x or y"
      ],
      "metadata": {
        "id": "Wk12j63XDRUs",
        "colab": {
          "base_uri": "https://localhost:8080/"
        },
        "outputId": "59b7c7c9-2d9c-4eba-87dc-7128a0343d31"
      },
      "execution_count": 49,
      "outputs": [
        {
          "output_type": "execute_result",
          "data": {
            "text/plain": [
              "True"
            ]
          },
          "metadata": {},
          "execution_count": 49
        }
      ]
    },
    {
      "cell_type": "code",
      "source": [
        "not x"
      ],
      "metadata": {
        "id": "Eg98vRBJDT6W",
        "colab": {
          "base_uri": "https://localhost:8080/"
        },
        "outputId": "bc7a8998-4259-4b4a-c74d-9887ba98e808"
      },
      "execution_count": 50,
      "outputs": [
        {
          "output_type": "execute_result",
          "data": {
            "text/plain": [
              "False"
            ]
          },
          "metadata": {},
          "execution_count": 50
        }
      ]
    },
    {
      "cell_type": "code",
      "source": [
        "(x and y) and (y and z)"
      ],
      "metadata": {
        "id": "1C0BM-3pDYB5",
        "colab": {
          "base_uri": "https://localhost:8080/"
        },
        "outputId": "7b975aeb-c6aa-4c14-d07c-2ee90be35697"
      },
      "execution_count": 51,
      "outputs": [
        {
          "output_type": "execute_result",
          "data": {
            "text/plain": [
              "False"
            ]
          },
          "metadata": {},
          "execution_count": 51
        }
      ]
    }
  ]
}