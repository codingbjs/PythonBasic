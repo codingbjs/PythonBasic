{
  "nbformat": 4,
  "nbformat_minor": 0,
  "metadata": {
    "colab": {
      "provenance": [],
      "authorship_tag": "ABX9TyPvfsh50/IqGCUg7OZnW36m",
      "include_colab_link": true
    },
    "kernelspec": {
      "name": "python3",
      "display_name": "Python 3"
    },
    "language_info": {
      "name": "python"
    }
  },
  "cells": [
    {
      "cell_type": "markdown",
      "metadata": {
        "id": "view-in-github",
        "colab_type": "text"
      },
      "source": [
        "<a href=\"https://colab.research.google.com/github/codingbjs/PythonBasic/blob/main/Function_and_Module/Function_and_Module.ipynb\" target=\"_parent\"><img src=\"https://colab.research.google.com/assets/colab-badge.svg\" alt=\"Open In Colab\"/></a>"
      ]
    },
    {
      "cell_type": "code",
      "execution_count": 1,
      "metadata": {
        "id": "YULbYXL76rwM"
      },
      "outputs": [],
      "source": [
        "import warnings\n",
        "warnings.filterwarnings('ignore')"
      ]
    },
    {
      "cell_type": "code",
      "source": [
        "def addition(m,n):\n",
        "    k = m + n\n",
        "    return k\n",
        "\n",
        "addition(m=3, n=6)"
      ],
      "metadata": {
        "colab": {
          "base_uri": "https://localhost:8080/"
        },
        "id": "00QXJCJZ7Zao",
        "outputId": "69b475cb-3073-4a42-f67e-379c96defe8f"
      },
      "execution_count": 2,
      "outputs": [
        {
          "output_type": "execute_result",
          "data": {
            "text/plain": [
              "9"
            ]
          },
          "metadata": {},
          "execution_count": 2
        }
      ]
    },
    {
      "cell_type": "code",
      "source": [
        "# def subtraction(m,n):\n",
        "#     k = m - n\n",
        "#     return k\n",
        "\n",
        "subtraction = lambda m, n : m - n\n",
        "\n",
        "subtraction(m=3, n=6)"
      ],
      "metadata": {
        "colab": {
          "base_uri": "https://localhost:8080/"
        },
        "id": "u0VEGiAw7s2o",
        "outputId": "da58874e-f6c4-4de7-ca68-833bbc121864"
      },
      "execution_count": 4,
      "outputs": [
        {
          "output_type": "execute_result",
          "data": {
            "text/plain": [
              "-3"
            ]
          },
          "metadata": {},
          "execution_count": 4
        }
      ]
    },
    {
      "cell_type": "code",
      "source": [
        "subtraction(n=6, m=3)"
      ],
      "metadata": {
        "colab": {
          "base_uri": "https://localhost:8080/"
        },
        "id": "0tiGutCX8SCv",
        "outputId": "4e476d7b-6886-45c9-e345-dae02dcb073b"
      },
      "execution_count": 5,
      "outputs": [
        {
          "output_type": "execute_result",
          "data": {
            "text/plain": [
              "-3"
            ]
          },
          "metadata": {},
          "execution_count": 5
        }
      ]
    },
    {
      "cell_type": "code",
      "source": [
        "subtraction(3,6)"
      ],
      "metadata": {
        "colab": {
          "base_uri": "https://localhost:8080/"
        },
        "id": "KlWcK-qp8niG",
        "outputId": "abd92ad0-1b31-4ef9-eba0-351ac532b215"
      },
      "execution_count": 7,
      "outputs": [
        {
          "output_type": "execute_result",
          "data": {
            "text/plain": [
              "-3"
            ]
          },
          "metadata": {},
          "execution_count": 7
        }
      ]
    },
    {
      "cell_type": "code",
      "source": [
        "subtraction(6,3)"
      ],
      "metadata": {
        "colab": {
          "base_uri": "https://localhost:8080/"
        },
        "id": "1b6twJ908s6o",
        "outputId": "01a89bc7-003f-4c16-c585-042fd7de8f99"
      },
      "execution_count": 8,
      "outputs": [
        {
          "output_type": "execute_result",
          "data": {
            "text/plain": [
              "3"
            ]
          },
          "metadata": {},
          "execution_count": 8
        }
      ]
    },
    {
      "cell_type": "code",
      "source": [
        "def add_mul(*inputs, operator='addition'):\n",
        "    if operator == 'addition':\n",
        "        result = 0\n",
        "        for i in inputs:\n",
        "            result = result + i\n",
        "    elif operator == 'multipication':\n",
        "        result = 1\n",
        "        for i in inputs:\n",
        "            result = result * i\n",
        "\n",
        "    return result\n",
        "\n",
        "\n",
        "add_mul(1,3,5,7,9)"
      ],
      "metadata": {
        "colab": {
          "base_uri": "https://localhost:8080/"
        },
        "id": "ZBnGGgsn8xmk",
        "outputId": "ebb35940-1ae6-4cd0-a3f9-61ff5db1cbbf"
      },
      "execution_count": 9,
      "outputs": [
        {
          "output_type": "execute_result",
          "data": {
            "text/plain": [
              "25"
            ]
          },
          "metadata": {},
          "execution_count": 9
        }
      ]
    },
    {
      "cell_type": "code",
      "source": [
        "add_mul(1,3,5,7,9, operator='multipication')"
      ],
      "metadata": {
        "colab": {
          "base_uri": "https://localhost:8080/"
        },
        "id": "n3ARo6F09vpY",
        "outputId": "88bb0442-a7b9-4839-bf1f-321bb283ea45"
      },
      "execution_count": 11,
      "outputs": [
        {
          "output_type": "execute_result",
          "data": {
            "text/plain": [
              "945"
            ]
          },
          "metadata": {},
          "execution_count": 11
        }
      ]
    },
    {
      "cell_type": "code",
      "source": [
        "def addition(m=3,n=6):\n",
        "    k = m + n\n",
        "    return k\n",
        "\n",
        "addition()"
      ],
      "metadata": {
        "colab": {
          "base_uri": "https://localhost:8080/"
        },
        "id": "pf8Fr9pY9201",
        "outputId": "bc4cf509-3509-4b69-efef-f204b7d09a3c"
      },
      "execution_count": 12,
      "outputs": [
        {
          "output_type": "execute_result",
          "data": {
            "text/plain": [
              "9"
            ]
          },
          "metadata": {},
          "execution_count": 12
        }
      ]
    },
    {
      "cell_type": "code",
      "source": [
        "addition(m=7,n=9)"
      ],
      "metadata": {
        "colab": {
          "base_uri": "https://localhost:8080/"
        },
        "id": "OTX9vP1F-H3a",
        "outputId": "0498bd31-a62f-4c4b-e329-a28498d4b93f"
      },
      "execution_count": 13,
      "outputs": [
        {
          "output_type": "execute_result",
          "data": {
            "text/plain": [
              "16"
            ]
          },
          "metadata": {},
          "execution_count": 13
        }
      ]
    },
    {
      "cell_type": "code",
      "source": [
        "import time\n",
        "\n",
        "print('스크립트 시작')\n",
        "time.sleep(9)\n",
        "print('시작 9초 후 스크립트 종료')"
      ],
      "metadata": {
        "colab": {
          "base_uri": "https://localhost:8080/"
        },
        "id": "jmVb4jOA-Od_",
        "outputId": "fae53f58-95bc-42d0-edab-a806c7a39fe7"
      },
      "execution_count": 14,
      "outputs": [
        {
          "output_type": "stream",
          "name": "stdout",
          "text": [
            "스크립트 시작\n",
            "시작 9초 후 스크립트 종료\n"
          ]
        }
      ]
    },
    {
      "cell_type": "code",
      "source": [
        "import sys\n",
        "sys.path"
      ],
      "metadata": {
        "colab": {
          "base_uri": "https://localhost:8080/"
        },
        "id": "hunrZQbh-iq8",
        "outputId": "97d37702-5c1b-42c8-bb51-410a4addd576"
      },
      "execution_count": 15,
      "outputs": [
        {
          "output_type": "execute_result",
          "data": {
            "text/plain": [
              "['/content',\n",
              " '/env/python',\n",
              " '/usr/lib/python310.zip',\n",
              " '/usr/lib/python3.10',\n",
              " '/usr/lib/python3.10/lib-dynload',\n",
              " '',\n",
              " '/usr/local/lib/python3.10/dist-packages',\n",
              " '/usr/lib/python3/dist-packages',\n",
              " '/usr/local/lib/python3.10/dist-packages/IPython/extensions',\n",
              " '/root/.ipython']"
            ]
          },
          "metadata": {},
          "execution_count": 15
        }
      ]
    },
    {
      "cell_type": "code",
      "source": [
        "import time as t\n",
        "\n",
        "print('5초 후에 결과 출력')\n",
        "t.sleep(5)\n",
        "print('축하합니다. 합격입니다.')"
      ],
      "metadata": {
        "colab": {
          "base_uri": "https://localhost:8080/"
        },
        "id": "_WQu4Uh--pwC",
        "outputId": "7394d5a6-8273-4e62-87a2-55ef8edda31e"
      },
      "execution_count": 16,
      "outputs": [
        {
          "output_type": "stream",
          "name": "stdout",
          "text": [
            "5초 후에 결과 출력\n",
            "축하합니다. 합격입니다.\n"
          ]
        }
      ]
    },
    {
      "cell_type": "code",
      "source": [
        "import myModule\n",
        "\n",
        "myModule.hi()"
      ],
      "metadata": {
        "colab": {
          "base_uri": "https://localhost:8080/"
        },
        "id": "Gubcx0ZR-9RD",
        "outputId": "68837fc9-6fff-42fe-b28f-68ea5e01a125"
      },
      "execution_count": 24,
      "outputs": [
        {
          "output_type": "stream",
          "name": "stdout",
          "text": [
            "사용자 정의 함수 실행\n",
            "Hello World\n",
            "사용자 정의 함수 종료\n"
          ]
        }
      ]
    },
    {
      "cell_type": "code",
      "source": [
        "myModule.addition(3,6)"
      ],
      "metadata": {
        "colab": {
          "base_uri": "https://localhost:8080/"
        },
        "id": "cTlXhNAt_Zzl",
        "outputId": "b1c94e4e-6201-471f-d5c2-faf93a35a94b"
      },
      "execution_count": 25,
      "outputs": [
        {
          "output_type": "execute_result",
          "data": {
            "text/plain": [
              "9"
            ]
          },
          "metadata": {},
          "execution_count": 25
        }
      ]
    },
    {
      "cell_type": "code",
      "source": [
        "myModule.subtraction(3,6)"
      ],
      "metadata": {
        "colab": {
          "base_uri": "https://localhost:8080/"
        },
        "id": "CjOz4cMI_gm_",
        "outputId": "fbd46852-38a2-4c64-8caf-9ea8ca973d70"
      },
      "execution_count": 27,
      "outputs": [
        {
          "output_type": "execute_result",
          "data": {
            "text/plain": [
              "-3"
            ]
          },
          "metadata": {},
          "execution_count": 27
        }
      ]
    },
    {
      "cell_type": "code",
      "source": [
        "myModule.add_all(1,3,5,7,9)"
      ],
      "metadata": {
        "colab": {
          "base_uri": "https://localhost:8080/"
        },
        "id": "8EuFfavr_o1f",
        "outputId": "6c2b21d8-7128-4055-f6f0-f8e933ee9d58"
      },
      "execution_count": 28,
      "outputs": [
        {
          "output_type": "execute_result",
          "data": {
            "text/plain": [
              "25"
            ]
          },
          "metadata": {},
          "execution_count": 28
        }
      ]
    },
    {
      "cell_type": "code",
      "source": [
        "from myModule import hi\n",
        "\n",
        "hi()"
      ],
      "metadata": {
        "colab": {
          "base_uri": "https://localhost:8080/"
        },
        "id": "cjCJwCIb_1vl",
        "outputId": "527915e9-20a9-445e-fb45-696aa815a0a4"
      },
      "execution_count": 18,
      "outputs": [
        {
          "output_type": "stream",
          "name": "stdout",
          "text": [
            "사용자 정의 함수 실행\n",
            "Hello World\n",
            "사용자 정의 함수 종료\n"
          ]
        }
      ]
    },
    {
      "cell_type": "code",
      "source": [
        "import myModule as m\n",
        "\n",
        "m.hi()\n",
        "m.addition(5,7)"
      ],
      "metadata": {
        "colab": {
          "base_uri": "https://localhost:8080/"
        },
        "id": "Yu7Sdv7KAI1l",
        "outputId": "f6d84a85-c30d-46cb-f951-b9d525111103"
      },
      "execution_count": 20,
      "outputs": [
        {
          "output_type": "stream",
          "name": "stdout",
          "text": [
            "사용자 정의 함수 실행\n",
            "Hello World\n",
            "사용자 정의 함수 종료\n"
          ]
        },
        {
          "output_type": "execute_result",
          "data": {
            "text/plain": [
              "12"
            ]
          },
          "metadata": {},
          "execution_count": 20
        }
      ]
    }
  ]
}